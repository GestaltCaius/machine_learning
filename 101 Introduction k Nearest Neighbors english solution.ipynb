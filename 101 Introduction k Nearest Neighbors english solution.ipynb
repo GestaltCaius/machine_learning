{
 "cells": [
  {
   "cell_type": "markdown",
   "metadata": {},
   "source": [
    "# Introduction of the k nearest neighbours"
   ]
  },
  {
   "cell_type": "markdown",
   "metadata": {},
   "source": [
    "## Dataset"
   ]
  },
  {
   "cell_type": "markdown",
   "metadata": {},
   "source": [
    "+ Read the file 'paris_airbnb.csv' in a Dataframe named paris_listings.\n",
    "+ Display the first line of paris_listings.\n"
   ]
  },
  {
   "cell_type": "code",
   "execution_count": 2,
   "metadata": {},
   "outputs": [],
   "source": [
    "# DataFrame.iloc[] to return a line from the desired position"
   ]
  },
  {
   "cell_type": "code",
   "execution_count": 2,
   "metadata": {},
   "outputs": [
    {
     "name": "stdout",
     "output_type": "stream",
     "text": [
      "host_response_rate                 100%\n",
      "host_acceptance_rate                NaN\n",
      "host_listings_count                   1\n",
      "latitude                        48.8335\n",
      "longitude                       2.31852\n",
      "city                              Paris\n",
      "zipcode                           75014\n",
      "state                     Île-de-France\n",
      "accommodates                          2\n",
      "room_type               Entire home/apt\n",
      "bedrooms                              0\n",
      "bathrooms                             1\n",
      "beds                                  0\n",
      "price                            $75.00\n",
      "cleaning_fee                     $50.00\n",
      "security_deposit                  $0.00\n",
      "minimum_nights                        3\n",
      "maximum_nights                       15\n",
      "number_of_reviews                     8\n",
      "Name: 0, dtype: object\n"
     ]
    }
   ],
   "source": [
    "import pandas as pd\n",
    "\n",
    "paris_listings = pd.read_csv('../data/paris_airbnb.csv')\n",
    "print(paris_listings.iloc[0])"
   ]
  },
  {
   "cell_type": "markdown",
   "metadata": {},
   "source": [
    "## Euclidean Distance"
   ]
  },
  {
   "cell_type": "markdown",
   "metadata": {},
   "source": [
    "+ Calculate the Euclidean distance between our accommodation which can accommodate 3 people and the first accommodation of the dataFrame paris_listings.\n",
    "+ Assign the result to the first_distance variable and display the result."
   ]
  },
  {
   "cell_type": "code",
   "execution_count": 6,
   "metadata": {},
   "outputs": [],
   "source": [
    "# numpy.abs()  to calculate the absolute value"
   ]
  },
  {
   "cell_type": "code",
   "execution_count": 3,
   "metadata": {},
   "outputs": [
    {
     "name": "stdout",
     "output_type": "stream",
     "text": [
      "1\n"
     ]
    }
   ],
   "source": [
    "import numpy as np\n",
    "\n",
    "our_acc_value = 3\n",
    "first_living_space_value = paris_listings.iloc[0]['accommodates']\n",
    "\n",
    "first_distance = np.abs(first_living_space_value - our_acc_value)\n",
    "print(first_distance)"
   ]
  },
  {
   "cell_type": "markdown",
   "metadata": {},
   "source": [
    "## Calculate the distance for all observations"
   ]
  },
  {
   "cell_type": "markdown",
   "metadata": {},
   "source": [
    "+ Calculate the distance between each value in the'accommodates' column of paris_listings and value 3 (which is the number of people that can accommodate our accommodation):\n",
    " - Use the **apply** method to calculate the absolute value between each value of'accommodates' and 3 and return a new Series object containing the distance values.\n",
    "+ Assign the distance values to the'distance' column of the dataframe.\n",
    "+ Use the Series value_counts() method and display the count of each unique value in the'distance' column."
   ]
  },
  {
   "cell_type": "code",
   "execution_count": 8,
   "metadata": {},
   "outputs": [],
   "source": [
    "# df['accommodates'].apply(lambda x: x + 2) returns a new Series object \n",
    "# where each original value in the \"accommoates\" column is 2 more"
   ]
  },
  {
   "cell_type": "code",
   "execution_count": 4,
   "metadata": {},
   "outputs": [
    {
     "name": "stdout",
     "output_type": "stream",
     "text": [
      "1     5665\n",
      "0      878\n",
      "2      726\n",
      "3      508\n",
      "4       88\n",
      "5       82\n",
      "6       18\n",
      "7       14\n",
      "9        8\n",
      "11       4\n",
      "8        4\n",
      "13       3\n",
      "10       2\n",
      "Name: distance, dtype: int64\n"
     ]
    }
   ],
   "source": [
    "new_listing = 3\n",
    "paris_listings['distance'] = paris_listings['accommodates'].apply(lambda x: np.abs(x - new_listing))\n",
    "print(paris_listings['distance'].value_counts())"
   ]
  },
  {
   "cell_type": "code",
   "execution_count": 5,
   "metadata": {},
   "outputs": [
    {
     "data": {
      "text/plain": [
       "3       3\n",
       "7       3\n",
       "13      3\n",
       "14      3\n",
       "18      3\n",
       "       ..\n",
       "7907    3\n",
       "7938    3\n",
       "7948    3\n",
       "7958    3\n",
       "7989    3\n",
       "Name: accommodates, Length: 878, dtype: int64"
      ]
     },
     "execution_count": 5,
     "metadata": {},
     "output_type": "execute_result"
    }
   ],
   "source": [
    "paris_listings[paris_listings['distance'] == 0][\"accommodates\"]"
   ]
  },
  {
   "cell_type": "markdown",
   "metadata": {},
   "source": [
    "## Randomize and sort"
   ]
  },
  {
   "cell_type": "markdown",
   "metadata": {},
   "source": [
    "+ We start by placing ourselves on the same seed: np.random.seed(1)\n",
    "+ Randomize the order of the betting lines_listings:\n",
    " - Use the np.random.permutation() function to return a NumPy array of mixed index values.\n",
    " - Use the method on Dataframe loc[] to return a new DataFrame containing the mixed order.\n",
    " - Assign the new Dataframe again to paris_listings.\n",
    "+ After randomizing, sort paris_listings on the'distance' column with the method sort_values().\n",
    "+ Display the first 10 values in the'price' column."
   ]
  },
  {
   "cell_type": "code",
   "execution_count": 8,
   "metadata": {},
   "outputs": [
    {
     "data": {
      "text/plain": [
       "array([5596, 5736, 2098, ..., 1503, 2631, 1456])"
      ]
     },
     "execution_count": 8,
     "metadata": {},
     "output_type": "execute_result"
    }
   ],
   "source": [
    "np.random.permutation(len(paris_listings))"
   ]
  },
  {
   "cell_type": "code",
   "execution_count": 9,
   "metadata": {},
   "outputs": [],
   "source": [
    "np.random.seed(1)\n",
    "paris_listings = paris_listings.loc[np.random.permutation(len(paris_listings))]\n",
    "paris_listings = paris_listings.sort_values('distance')\n",
    "#paris_listings.iloc[0:10]['price']"
   ]
  },
  {
   "cell_type": "code",
   "execution_count": 10,
   "metadata": {},
   "outputs": [
    {
     "data": {
      "text/html": [
       "<div>\n",
       "<style scoped>\n",
       "    .dataframe tbody tr th:only-of-type {\n",
       "        vertical-align: middle;\n",
       "    }\n",
       "\n",
       "    .dataframe tbody tr th {\n",
       "        vertical-align: top;\n",
       "    }\n",
       "\n",
       "    .dataframe thead th {\n",
       "        text-align: right;\n",
       "    }\n",
       "</style>\n",
       "<table border=\"1\" class=\"dataframe\">\n",
       "  <thead>\n",
       "    <tr style=\"text-align: right;\">\n",
       "      <th></th>\n",
       "      <th>host_response_rate</th>\n",
       "      <th>host_acceptance_rate</th>\n",
       "      <th>host_listings_count</th>\n",
       "      <th>latitude</th>\n",
       "      <th>longitude</th>\n",
       "      <th>city</th>\n",
       "      <th>zipcode</th>\n",
       "      <th>state</th>\n",
       "      <th>accommodates</th>\n",
       "      <th>room_type</th>\n",
       "      <th>bedrooms</th>\n",
       "      <th>bathrooms</th>\n",
       "      <th>beds</th>\n",
       "      <th>price</th>\n",
       "      <th>cleaning_fee</th>\n",
       "      <th>security_deposit</th>\n",
       "      <th>minimum_nights</th>\n",
       "      <th>maximum_nights</th>\n",
       "      <th>number_of_reviews</th>\n",
       "      <th>distance</th>\n",
       "    </tr>\n",
       "  </thead>\n",
       "  <tbody>\n",
       "    <tr>\n",
       "      <th>1956</th>\n",
       "      <td>100%</td>\n",
       "      <td>NaN</td>\n",
       "      <td>2.0</td>\n",
       "      <td>48.87572</td>\n",
       "      <td>2.35423</td>\n",
       "      <td>Paris</td>\n",
       "      <td>75010</td>\n",
       "      <td>Île-de-France</td>\n",
       "      <td>3</td>\n",
       "      <td>Entire home/apt</td>\n",
       "      <td>1.0</td>\n",
       "      <td>1.0</td>\n",
       "      <td>3.0</td>\n",
       "      <td>$80.00</td>\n",
       "      <td>$25.00</td>\n",
       "      <td>$100.00</td>\n",
       "      <td>2</td>\n",
       "      <td>120</td>\n",
       "      <td>60</td>\n",
       "      <td>0</td>\n",
       "    </tr>\n",
       "    <tr>\n",
       "      <th>963</th>\n",
       "      <td>NaN</td>\n",
       "      <td>NaN</td>\n",
       "      <td>1.0</td>\n",
       "      <td>48.89270</td>\n",
       "      <td>2.34227</td>\n",
       "      <td>Paris</td>\n",
       "      <td>75018</td>\n",
       "      <td>Île-de-France</td>\n",
       "      <td>3</td>\n",
       "      <td>Entire home/apt</td>\n",
       "      <td>1.0</td>\n",
       "      <td>1.0</td>\n",
       "      <td>2.0</td>\n",
       "      <td>$80.00</td>\n",
       "      <td>$25.00</td>\n",
       "      <td>$300.00</td>\n",
       "      <td>7</td>\n",
       "      <td>30</td>\n",
       "      <td>10</td>\n",
       "      <td>0</td>\n",
       "    </tr>\n",
       "    <tr>\n",
       "      <th>3977</th>\n",
       "      <td>89%</td>\n",
       "      <td>NaN</td>\n",
       "      <td>1.0</td>\n",
       "      <td>48.89650</td>\n",
       "      <td>2.31881</td>\n",
       "      <td>Paris</td>\n",
       "      <td>75017</td>\n",
       "      <td>Île-de-France</td>\n",
       "      <td>3</td>\n",
       "      <td>Entire home/apt</td>\n",
       "      <td>2.0</td>\n",
       "      <td>1.0</td>\n",
       "      <td>2.0</td>\n",
       "      <td>$65.00</td>\n",
       "      <td>NaN</td>\n",
       "      <td>NaN</td>\n",
       "      <td>2</td>\n",
       "      <td>7</td>\n",
       "      <td>14</td>\n",
       "      <td>0</td>\n",
       "    </tr>\n",
       "    <tr>\n",
       "      <th>318</th>\n",
       "      <td>100%</td>\n",
       "      <td>NaN</td>\n",
       "      <td>1.0</td>\n",
       "      <td>48.84635</td>\n",
       "      <td>2.34198</td>\n",
       "      <td>Paris</td>\n",
       "      <td>75005</td>\n",
       "      <td>Île-de-France</td>\n",
       "      <td>3</td>\n",
       "      <td>Entire home/apt</td>\n",
       "      <td>1.0</td>\n",
       "      <td>1.0</td>\n",
       "      <td>3.0</td>\n",
       "      <td>$97.00</td>\n",
       "      <td>$65.00</td>\n",
       "      <td>$2,850.00</td>\n",
       "      <td>365</td>\n",
       "      <td>1125</td>\n",
       "      <td>44</td>\n",
       "      <td>0</td>\n",
       "    </tr>\n",
       "    <tr>\n",
       "      <th>6688</th>\n",
       "      <td>100%</td>\n",
       "      <td>NaN</td>\n",
       "      <td>2.0</td>\n",
       "      <td>48.84682</td>\n",
       "      <td>2.34657</td>\n",
       "      <td>Paris</td>\n",
       "      <td>75005</td>\n",
       "      <td>Île-de-France</td>\n",
       "      <td>3</td>\n",
       "      <td>Entire home/apt</td>\n",
       "      <td>1.0</td>\n",
       "      <td>1.0</td>\n",
       "      <td>2.0</td>\n",
       "      <td>$100.00</td>\n",
       "      <td>$40.00</td>\n",
       "      <td>$250.00</td>\n",
       "      <td>30</td>\n",
       "      <td>360</td>\n",
       "      <td>30</td>\n",
       "      <td>0</td>\n",
       "    </tr>\n",
       "    <tr>\n",
       "      <th>...</th>\n",
       "      <td>...</td>\n",
       "      <td>...</td>\n",
       "      <td>...</td>\n",
       "      <td>...</td>\n",
       "      <td>...</td>\n",
       "      <td>...</td>\n",
       "      <td>...</td>\n",
       "      <td>...</td>\n",
       "      <td>...</td>\n",
       "      <td>...</td>\n",
       "      <td>...</td>\n",
       "      <td>...</td>\n",
       "      <td>...</td>\n",
       "      <td>...</td>\n",
       "      <td>...</td>\n",
       "      <td>...</td>\n",
       "      <td>...</td>\n",
       "      <td>...</td>\n",
       "      <td>...</td>\n",
       "      <td>...</td>\n",
       "    </tr>\n",
       "    <tr>\n",
       "      <th>3058</th>\n",
       "      <td>100%</td>\n",
       "      <td>NaN</td>\n",
       "      <td>1.0</td>\n",
       "      <td>48.83392</td>\n",
       "      <td>2.30853</td>\n",
       "      <td>Paris</td>\n",
       "      <td>75015</td>\n",
       "      <td>Île-de-France</td>\n",
       "      <td>14</td>\n",
       "      <td>Entire home/apt</td>\n",
       "      <td>1.0</td>\n",
       "      <td>1.5</td>\n",
       "      <td>8.0</td>\n",
       "      <td>$300.00</td>\n",
       "      <td>$150.00</td>\n",
       "      <td>$400.00</td>\n",
       "      <td>1</td>\n",
       "      <td>20</td>\n",
       "      <td>117</td>\n",
       "      <td>11</td>\n",
       "    </tr>\n",
       "    <tr>\n",
       "      <th>887</th>\n",
       "      <td>NaN</td>\n",
       "      <td>NaN</td>\n",
       "      <td>2.0</td>\n",
       "      <td>48.82438</td>\n",
       "      <td>2.35859</td>\n",
       "      <td>Paris</td>\n",
       "      <td>75013</td>\n",
       "      <td>Île-de-France</td>\n",
       "      <td>14</td>\n",
       "      <td>Entire home/apt</td>\n",
       "      <td>3.0</td>\n",
       "      <td>1.0</td>\n",
       "      <td>2.0</td>\n",
       "      <td>$99.00</td>\n",
       "      <td>$371.00</td>\n",
       "      <td>NaN</td>\n",
       "      <td>1</td>\n",
       "      <td>1125</td>\n",
       "      <td>1</td>\n",
       "      <td>11</td>\n",
       "    </tr>\n",
       "    <tr>\n",
       "      <th>7167</th>\n",
       "      <td>100%</td>\n",
       "      <td>NaN</td>\n",
       "      <td>4.0</td>\n",
       "      <td>48.86689</td>\n",
       "      <td>2.36066</td>\n",
       "      <td>Paris</td>\n",
       "      <td>75003</td>\n",
       "      <td>Île-de-France</td>\n",
       "      <td>16</td>\n",
       "      <td>Entire home/apt</td>\n",
       "      <td>1.0</td>\n",
       "      <td>0.5</td>\n",
       "      <td>1.0</td>\n",
       "      <td>$800.00</td>\n",
       "      <td>$60.00</td>\n",
       "      <td>$600.00</td>\n",
       "      <td>2</td>\n",
       "      <td>45</td>\n",
       "      <td>8</td>\n",
       "      <td>13</td>\n",
       "    </tr>\n",
       "    <tr>\n",
       "      <th>7436</th>\n",
       "      <td>47%</td>\n",
       "      <td>NaN</td>\n",
       "      <td>3.0</td>\n",
       "      <td>48.87692</td>\n",
       "      <td>2.37166</td>\n",
       "      <td>Paris</td>\n",
       "      <td>NaN</td>\n",
       "      <td>Île-de-France</td>\n",
       "      <td>16</td>\n",
       "      <td>Entire home/apt</td>\n",
       "      <td>4.0</td>\n",
       "      <td>2.5</td>\n",
       "      <td>4.0</td>\n",
       "      <td>$800.00</td>\n",
       "      <td>$140.00</td>\n",
       "      <td>$750.00</td>\n",
       "      <td>1</td>\n",
       "      <td>1125</td>\n",
       "      <td>4</td>\n",
       "      <td>13</td>\n",
       "    </tr>\n",
       "    <tr>\n",
       "      <th>2785</th>\n",
       "      <td>92%</td>\n",
       "      <td>NaN</td>\n",
       "      <td>1.0</td>\n",
       "      <td>48.87008</td>\n",
       "      <td>2.37616</td>\n",
       "      <td>Paris</td>\n",
       "      <td>75011</td>\n",
       "      <td>Île-de-France</td>\n",
       "      <td>16</td>\n",
       "      <td>Entire home/apt</td>\n",
       "      <td>3.0</td>\n",
       "      <td>2.0</td>\n",
       "      <td>3.0</td>\n",
       "      <td>$250.00</td>\n",
       "      <td>$75.00</td>\n",
       "      <td>$2,000.00</td>\n",
       "      <td>1</td>\n",
       "      <td>1125</td>\n",
       "      <td>34</td>\n",
       "      <td>13</td>\n",
       "    </tr>\n",
       "  </tbody>\n",
       "</table>\n",
       "<p>8000 rows × 20 columns</p>\n",
       "</div>"
      ],
      "text/plain": [
       "     host_response_rate  host_acceptance_rate  host_listings_count  latitude  \\\n",
       "1956               100%                   NaN                  2.0  48.87572   \n",
       "963                 NaN                   NaN                  1.0  48.89270   \n",
       "3977                89%                   NaN                  1.0  48.89650   \n",
       "318                100%                   NaN                  1.0  48.84635   \n",
       "6688               100%                   NaN                  2.0  48.84682   \n",
       "...                 ...                   ...                  ...       ...   \n",
       "3058               100%                   NaN                  1.0  48.83392   \n",
       "887                 NaN                   NaN                  2.0  48.82438   \n",
       "7167               100%                   NaN                  4.0  48.86689   \n",
       "7436                47%                   NaN                  3.0  48.87692   \n",
       "2785                92%                   NaN                  1.0  48.87008   \n",
       "\n",
       "      longitude   city zipcode          state  accommodates        room_type  \\\n",
       "1956    2.35423  Paris   75010  Île-de-France             3  Entire home/apt   \n",
       "963     2.34227  Paris   75018  Île-de-France             3  Entire home/apt   \n",
       "3977    2.31881  Paris   75017  Île-de-France             3  Entire home/apt   \n",
       "318     2.34198  Paris   75005  Île-de-France             3  Entire home/apt   \n",
       "6688    2.34657  Paris   75005  Île-de-France             3  Entire home/apt   \n",
       "...         ...    ...     ...            ...           ...              ...   \n",
       "3058    2.30853  Paris   75015  Île-de-France            14  Entire home/apt   \n",
       "887     2.35859  Paris   75013  Île-de-France            14  Entire home/apt   \n",
       "7167    2.36066  Paris   75003  Île-de-France            16  Entire home/apt   \n",
       "7436    2.37166  Paris     NaN  Île-de-France            16  Entire home/apt   \n",
       "2785    2.37616  Paris   75011  Île-de-France            16  Entire home/apt   \n",
       "\n",
       "      bedrooms  bathrooms  beds    price cleaning_fee security_deposit  \\\n",
       "1956       1.0        1.0   3.0   $80.00       $25.00          $100.00   \n",
       "963        1.0        1.0   2.0   $80.00       $25.00          $300.00   \n",
       "3977       2.0        1.0   2.0   $65.00          NaN              NaN   \n",
       "318        1.0        1.0   3.0   $97.00       $65.00        $2,850.00   \n",
       "6688       1.0        1.0   2.0  $100.00       $40.00          $250.00   \n",
       "...        ...        ...   ...      ...          ...              ...   \n",
       "3058       1.0        1.5   8.0  $300.00      $150.00          $400.00   \n",
       "887        3.0        1.0   2.0   $99.00      $371.00              NaN   \n",
       "7167       1.0        0.5   1.0  $800.00       $60.00          $600.00   \n",
       "7436       4.0        2.5   4.0  $800.00      $140.00          $750.00   \n",
       "2785       3.0        2.0   3.0  $250.00       $75.00        $2,000.00   \n",
       "\n",
       "      minimum_nights  maximum_nights  number_of_reviews  distance  \n",
       "1956               2             120                 60         0  \n",
       "963                7              30                 10         0  \n",
       "3977               2               7                 14         0  \n",
       "318              365            1125                 44         0  \n",
       "6688              30             360                 30         0  \n",
       "...              ...             ...                ...       ...  \n",
       "3058               1              20                117        11  \n",
       "887                1            1125                  1        11  \n",
       "7167               2              45                  8        13  \n",
       "7436               1            1125                  4        13  \n",
       "2785               1            1125                 34        13  \n",
       "\n",
       "[8000 rows x 20 columns]"
      ]
     },
     "execution_count": 10,
     "metadata": {},
     "output_type": "execute_result"
    }
   ],
   "source": [
    "paris_listings.sort_values('distance')"
   ]
  },
  {
   "cell_type": "code",
   "execution_count": 7,
   "metadata": {},
   "outputs": [],
   "source": [
    "paris_listings = paris_listings.loc[np.random.permutation(len(paris_listings))]"
   ]
  },
  {
   "cell_type": "code",
   "execution_count": 1,
   "metadata": {},
   "outputs": [
    {
     "ename": "NameError",
     "evalue": "name 'paris_listings' is not defined",
     "output_type": "error",
     "traceback": [
      "\u001b[0;31m---------------------------------------------------------------------------\u001b[0m",
      "\u001b[0;31mNameError\u001b[0m                                 Traceback (most recent call last)",
      "\u001b[0;32m<ipython-input-1-6db3329ec287>\u001b[0m in \u001b[0;36m<module>\u001b[0;34m\u001b[0m\n\u001b[0;32m----> 1\u001b[0;31m \u001b[0mparis_listings\u001b[0m \u001b[0;34m=\u001b[0m \u001b[0mparis_listings\u001b[0m\u001b[0;34m.\u001b[0m\u001b[0mloc\u001b[0m\u001b[0;34m[\u001b[0m\u001b[0mnp\u001b[0m\u001b[0;34m.\u001b[0m\u001b[0mrandom\u001b[0m\u001b[0;34m.\u001b[0m\u001b[0mpermutation\u001b[0m\u001b[0;34m(\u001b[0m\u001b[0mlen\u001b[0m\u001b[0;34m(\u001b[0m\u001b[0mparis_listings\u001b[0m\u001b[0;34m)\u001b[0m\u001b[0;34m)\u001b[0m\u001b[0;34m]\u001b[0m\u001b[0;34m\u001b[0m\u001b[0;34m\u001b[0m\u001b[0m\n\u001b[0m",
      "\u001b[0;31mNameError\u001b[0m: name 'paris_listings' is not defined"
     ]
    }
   ],
   "source": [
    "paris_listings = paris_listings.loc[np.random.permutation(len(paris_listings))]"
   ]
  },
  {
   "cell_type": "code",
   "execution_count": null,
   "metadata": {},
   "outputs": [],
   "source": []
  },
  {
   "cell_type": "markdown",
   "metadata": {},
   "source": [
    "## Average price"
   ]
  },
  {
   "cell_type": "markdown",
   "metadata": {},
   "source": [
    "+ Delete commas and dollar signs from the'price' column:\n",
    " - Use the str accessor so that we can apply the string method followed by the character replacement method to each value in the previous column: stripped_commas = paris_listings['price'].str.replace(',',''')\n",
    " - Repeat the operation to delete the $ signs.\n",
    "+ Convert the new Series object containing the cleaned values into a float and assign the result to the'price' column of the paris_listings dataframe.\n",
    "+ Calculate the average of the 5 values in the'price' column and assign the result to the mean_price variable.\n",
    "+ Display the result."
   ]
  },
  {
   "cell_type": "code",
   "execution_count": 21,
   "metadata": {},
   "outputs": [],
   "source": [
    "# .mean() to calculate the average of a Series object"
   ]
  },
  {
   "cell_type": "code",
   "execution_count": 14,
   "metadata": {},
   "outputs": [
    {
     "name": "stdout",
     "output_type": "stream",
     "text": [
      "94.0\n"
     ]
    }
   ],
   "source": [
    "stripped_commas = paris_listings['price'].str.replace(',', '')\n",
    "stripped_dollars = stripped_commas.str.replace('$', '')\n",
    "paris_listings['price'] = stripped_dollars.astype('float')\n",
    "mean_price = paris_listings.iloc[0:5]['price'].mean()\n",
    "print(mean_price)"
   ]
  },
  {
   "cell_type": "markdown",
   "metadata": {},
   "source": [
    "## Function to make predictions"
   ]
  },
  {
   "cell_type": "markdown",
   "metadata": {},
   "source": [
    "+ Write a function called predict_price that uses the Machine Learning technique of the nearest k neighbours to calculate the suggested price for any value of the number of people the dwelling can accommodate. \n",
    "+ This function must:\n",
    " - Take a single parameter, new_listing, the number of people that can accommodate the accommodation. \n",
    " - I also added code that assigns paris_listings to a new DataFrame named temp_df. We use the pandas.DataFrame.copy() method so that the previous dataframe is assigned to the variable temp_df, instead of just referring to paris_listings.\n",
    " - Calculate the distance between each value in the'accommodates' column and the new_listing value passed as a function parameter. Assign the resulting Series object to the'distance' column of temp_df.\n",
    " - Sort temp_df on the distance column and select the first 5 values from the price column. Do not randomize the order of temp_df.\n",
    " - Calculate the average of these 5 values and return this value as an output of the predict_price function.\n",
    "+ Use the predict_price function to suggest a price for a suitable accommodation:\n",
    " - 1 person, assign this result to the acc_one variable.\n",
    " - 2 persons, assign this result to the variable acc_two.\n",
    " - 4 persons, assign this result to the acc_four variable.\n"
   ]
  },
  {
   "cell_type": "code",
   "execution_count": 15,
   "metadata": {},
   "outputs": [],
   "source": [
    "def predict_price(new_listing):\n",
    "    temp_df = paris_listings.copy()\n",
    "    # Compléter la fonction.\n",
    "    return(predicted_price)"
   ]
  },
  {
   "cell_type": "code",
   "execution_count": 17,
   "metadata": {},
   "outputs": [
    {
     "name": "stdout",
     "output_type": "stream",
     "text": [
      "69.6\n",
      "105.4\n",
      "104.6\n"
     ]
    }
   ],
   "source": [
    "import numpy as np\n",
    "import pandas as pd\n",
    "np.random.seed(1)\n",
    "\n",
    "paris_listings = pd.read_csv('../data/paris_airbnb.csv')\n",
    "stripped_commas = paris_listings['price'].str.replace(',', '')\n",
    "stripped_dollars = stripped_commas.str.replace('$', '')\n",
    "paris_listings['price'] = stripped_dollars.astype('float')\n",
    "paris_listings = paris_listings.loc[np.random.permutation(len(paris_listings))]\n",
    "\n",
    "def predict_price(new_listing):\n",
    "    temp_df = paris_listings.copy()\n",
    "    temp_df['distance'] = temp_df['accommodates'].apply(lambda x: np.abs(x - new_listing))\n",
    "    temp_df = temp_df.sort_values('distance')\n",
    "    nearest_neighbors = temp_df.iloc[0:5]['price']\n",
    "    predicted_price = nearest_neighbors.mean()\n",
    "    return(predicted_price)\n",
    "\n",
    "acc_one = predict_price(1)\n",
    "acc_two = predict_price(2)\n",
    "acc_four = predict_price(4)\n",
    "\n",
    "print(acc_one)\n",
    "print(acc_two)\n",
    "print(acc_four)"
   ]
  },
  {
   "cell_type": "code",
   "execution_count": null,
   "metadata": {},
   "outputs": [],
   "source": []
  },
  {
   "cell_type": "code",
   "execution_count": null,
   "metadata": {},
   "outputs": [],
   "source": []
  }
 ],
 "metadata": {
  "kernelspec": {
   "display_name": "Python 3",
   "language": "python",
   "name": "python3"
  },
  "language_info": {
   "codemirror_mode": {
    "name": "ipython",
    "version": 3
   },
   "file_extension": ".py",
   "mimetype": "text/x-python",
   "name": "python",
   "nbconvert_exporter": "python",
   "pygments_lexer": "ipython3",
   "version": "3.8.1"
  }
 },
 "nbformat": 4,
 "nbformat_minor": 2
}
