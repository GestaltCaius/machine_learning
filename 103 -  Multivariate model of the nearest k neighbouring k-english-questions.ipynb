{
 "cells": [
  {
   "cell_type": "markdown",
   "metadata": {},
   "source": [
    "# Multivariate model of the K closest neighbors"
   ]
  },
  {
   "cell_type": "markdown",
   "metadata": {},
   "source": [
    "## Summary"
   ]
  },
  {
   "cell_type": "markdown",
   "metadata": {},
   "source": [
    "+ Use the DataFrame.info() method to return the number of non-zero values in each column."
   ]
  },
  {
   "cell_type": "code",
   "execution_count": 2,
   "metadata": {},
   "outputs": [
    {
     "name": "stdout",
     "output_type": "stream",
     "text": [
      "<class 'pandas.core.frame.DataFrame'>\n",
      "Int64Index: 2000 entries, 4465 to 5157\n",
      "Data columns (total 19 columns):\n",
      " #   Column                Non-Null Count  Dtype  \n",
      "---  ------                --------------  -----  \n",
      " 0   host_response_rate    1253 non-null   object \n",
      " 1   host_acceptance_rate  0 non-null      float64\n",
      " 2   host_listings_count   1999 non-null   float64\n",
      " 3   latitude              2000 non-null   float64\n",
      " 4   longitude             2000 non-null   float64\n",
      " 5   city                  1998 non-null   object \n",
      " 6   zipcode               1982 non-null   object \n",
      " 7   state                 1990 non-null   object \n",
      " 8   accommodates          2000 non-null   int64  \n",
      " 9   room_type             2000 non-null   object \n",
      " 10  bedrooms              1998 non-null   float64\n",
      " 11  bathrooms             1987 non-null   float64\n",
      " 12  beds                  1996 non-null   float64\n",
      " 13  price                 2000 non-null   float64\n",
      " 14  cleaning_fee          1588 non-null   object \n",
      " 15  security_deposit      1594 non-null   object \n",
      " 16  minimum_nights        2000 non-null   int64  \n",
      " 17  maximum_nights        2000 non-null   int64  \n",
      " 18  number_of_reviews     2000 non-null   int64  \n",
      "dtypes: float64(8), int64(4), object(7)\n",
      "memory usage: 312.5+ KB\n"
     ]
    }
   ],
   "source": [
    "import numpy as np\n",
    "import pandas as pd\n",
    "from pandas import DataFrame\n",
    "np.random.seed(1)\n",
    "\n",
    "\n",
    "# Read, prices to floats, randomize\n",
    "paris_listings = pd.read_csv('./datasets/paris_airbnb.csv')\n",
    "stripped_commas = paris_listings['price'].str.replace(',', '')\n",
    "stripped_dollars = stripped_commas.str.replace('$', '')\n",
    "paris_listings['price'] = stripped_dollars.astype('float')\n",
    "paris_listings = paris_listings.loc[np.random.permutation(len(paris_listings))]\n",
    "\n",
    "def predict_price(new_listing: int):\n",
    "    temp_df = train_df.copy() # Train dataset instead of whole dataset\n",
    "    temp_df['distance'] = temp_df['bedrooms'].apply(lambda x: np.abs(x - new_listing))\n",
    "    temp_df = temp_df.sort_values('distance')\n",
    "    nearest_neighbors = temp_df.iloc[0:5]['price'] # k = 5\n",
    "    predicted_price = nearest_neighbors.mean()\n",
    "    return predicted_price\n",
    "\n",
    "separator = np.math.floor(len(paris_listings) * 0.75)\n",
    "train_df: DataFrame = paris_listings[0:separator]\n",
    "test_df: DataFrame = paris_listings[separator:]\n",
    "\n",
    "#test_df['predicted_price'] = test_df['bedrooms'].apply(lambda x: predict_price(x))\n",
    "#test_df\n",
    "\n",
    "test_df.info()"
   ]
  },
  {
   "cell_type": "markdown",
   "metadata": {},
   "source": [
    "## Delete features"
   ]
  },
  {
   "cell_type": "markdown",
   "metadata": {},
   "source": [
    "+ Delete the 9 columns that we have just quoted from the DataFrame paris_listings:\n",
    " - 3 containing non-numeric values (room_type, city and state)\n",
    " - 3 containing numerical but not ordinal values (longitude, latitude and zipcode)\n",
    " - 3 describing the host rather than the accommodation (host_)\n",
    "+ Display the sum of the missing values of the resulting DataFrame."
   ]
  },
  {
   "cell_type": "code",
   "execution_count": 12,
   "metadata": {},
   "outputs": [],
   "source": [
    "# Dataframe.drop() to specify the columns to be deleted\n",
    "\n",
    "# isnull() and sum() to obtain the sum of the missing values"
   ]
  },
  {
   "cell_type": "code",
   "execution_count": 36,
   "metadata": {},
   "outputs": [
    {
     "data": {
      "text/plain": [
       "accommodates          0\n",
       "bedrooms             24\n",
       "bathrooms            58\n",
       "beds                 14\n",
       "price                 0\n",
       "minimum_nights        0\n",
       "maximum_nights        0\n",
       "number_of_reviews     0\n",
       "dtype: int64"
      ]
     },
     "execution_count": 36,
     "metadata": {},
     "output_type": "execute_result"
    }
   ],
   "source": [
    "tmp = paris_listings.drop(['host_listings_count', 'city', 'zipcode', 'state', 'room_type', 'host_acceptance_rate', 'host_response_rate', 'cleaning_fee', 'security_deposit','latitude', 'longitude'], axis=1)\n",
    "tmp.isnull().sum()\n"
   ]
  },
  {
   "cell_type": "markdown",
   "metadata": {},
   "source": [
    "## Handle missing values"
   ]
  },
  {
   "cell_type": "markdown",
   "metadata": {},
   "source": [
    "+ Remove the cleaning_fee and security_deposit columns from the DataFrame paris_listings.\n",
    "+ Then, delete all rows containing a missing value in the'bedrooms','bathrooms' and'beds' columns of the paris_listings dataframe.\n",
    " - You can do this by using the dropna() method by setting the axis parameter to 0.\n",
    " - Since only the bedrooms, bathrooms, and beds columns contain missing values, the rows containing these missing values in these columns will be deleted.\n",
    "+ Display the number of zero values for the newly updated new DataFrame to confirm that there are no more missing values."
   ]
  },
  {
   "cell_type": "code",
   "execution_count": 16,
   "metadata": {},
   "outputs": [],
   "source": [
    "# paris_listings.dropna(axis=0) to delete all lines containing values\n",
    "# missing"
   ]
  },
  {
   "cell_type": "code",
   "execution_count": 37,
   "metadata": {},
   "outputs": [
    {
     "data": {
      "text/plain": [
       "accommodates         0\n",
       "bedrooms             0\n",
       "bathrooms            0\n",
       "beds                 0\n",
       "price                0\n",
       "minimum_nights       0\n",
       "maximum_nights       0\n",
       "number_of_reviews    0\n",
       "dtype: int64"
      ]
     },
     "execution_count": 37,
     "metadata": {},
     "output_type": "execute_result"
    }
   ],
   "source": [
    "tmp.dropna(axis=0, inplace=True)\n",
    "tmp.isnull().sum()"
   ]
  },
  {
   "cell_type": "markdown",
   "metadata": {},
   "source": [
    "## Normalize columns"
   ]
  },
  {
   "cell_type": "markdown",
   "metadata": {},
   "source": [
    "+ Normalize all remaining columns of paris_listings and assign the new DataFrame containing just the normalized columns to the normalized_listings variable.\n",
    "+ Add the'price' column from paris_listings to normalized_listings.\n",
    "+ Display the first 3 values of normalized_listings.\n"
   ]
  },
  {
   "cell_type": "code",
   "execution_count": 38,
   "metadata": {},
   "outputs": [
    {
     "name": "stdout",
     "output_type": "stream",
     "text": [
      "<class 'pandas.core.frame.DataFrame'>\n",
      "Int64Index: 7917 entries, 4740 to 5157\n",
      "Data columns (total 8 columns):\n",
      " #   Column             Non-Null Count  Dtype  \n",
      "---  ------             --------------  -----  \n",
      " 0   accommodates       7917 non-null   int64  \n",
      " 1   bedrooms           7917 non-null   float64\n",
      " 2   bathrooms          7917 non-null   float64\n",
      " 3   beds               7917 non-null   float64\n",
      " 4   price              7917 non-null   float64\n",
      " 5   minimum_nights     7917 non-null   int64  \n",
      " 6   maximum_nights     7917 non-null   int64  \n",
      " 7   number_of_reviews  7917 non-null   int64  \n",
      "dtypes: float64(4), int64(4)\n",
      "memory usage: 556.7 KB\n"
     ]
    },
    {
     "data": {
      "text/html": [
       "<div>\n",
       "<style scoped>\n",
       "    .dataframe tbody tr th:only-of-type {\n",
       "        vertical-align: middle;\n",
       "    }\n",
       "\n",
       "    .dataframe tbody tr th {\n",
       "        vertical-align: top;\n",
       "    }\n",
       "\n",
       "    .dataframe thead th {\n",
       "        text-align: right;\n",
       "    }\n",
       "</style>\n",
       "<table border=\"1\" class=\"dataframe\">\n",
       "  <thead>\n",
       "    <tr style=\"text-align: right;\">\n",
       "      <th></th>\n",
       "      <th>accommodates</th>\n",
       "      <th>bedrooms</th>\n",
       "      <th>bathrooms</th>\n",
       "      <th>beds</th>\n",
       "      <th>price</th>\n",
       "      <th>minimum_nights</th>\n",
       "      <th>maximum_nights</th>\n",
       "      <th>number_of_reviews</th>\n",
       "    </tr>\n",
       "  </thead>\n",
       "  <tbody>\n",
       "    <tr>\n",
       "      <th>4740</th>\n",
       "      <td>0.503868</td>\n",
       "      <td>-0.296884</td>\n",
       "      <td>-0.293537</td>\n",
       "      <td>0.20531</td>\n",
       "      <td>65.0</td>\n",
       "      <td>-0.184601</td>\n",
       "      <td>1.062858</td>\n",
       "      <td>-0.564545</td>\n",
       "    </tr>\n",
       "    <tr>\n",
       "      <th>5606</th>\n",
       "      <td>-0.131849</td>\n",
       "      <td>0.892605</td>\n",
       "      <td>0.843973</td>\n",
       "      <td>0.20531</td>\n",
       "      <td>98.0</td>\n",
       "      <td>-0.101183</td>\n",
       "      <td>1.061018</td>\n",
       "      <td>-0.636924</td>\n",
       "    </tr>\n",
       "    <tr>\n",
       "      <th>4824</th>\n",
       "      <td>-0.767566</td>\n",
       "      <td>-1.486372</td>\n",
       "      <td>-0.293537</td>\n",
       "      <td>-0.64526</td>\n",
       "      <td>65.0</td>\n",
       "      <td>0.037847</td>\n",
       "      <td>1.062858</td>\n",
       "      <td>-0.651400</td>\n",
       "    </tr>\n",
       "    <tr>\n",
       "      <th>4205</th>\n",
       "      <td>-0.767566</td>\n",
       "      <td>-0.296884</td>\n",
       "      <td>-0.293537</td>\n",
       "      <td>-0.64526</td>\n",
       "      <td>45.0</td>\n",
       "      <td>-0.101183</td>\n",
       "      <td>1.062858</td>\n",
       "      <td>0.550105</td>\n",
       "    </tr>\n",
       "    <tr>\n",
       "      <th>3228</th>\n",
       "      <td>-0.131849</td>\n",
       "      <td>-0.296884</td>\n",
       "      <td>-0.293537</td>\n",
       "      <td>0.20531</td>\n",
       "      <td>65.0</td>\n",
       "      <td>-0.101183</td>\n",
       "      <td>-0.335685</td>\n",
       "      <td>-0.579021</td>\n",
       "    </tr>\n",
       "    <tr>\n",
       "      <th>...</th>\n",
       "      <td>...</td>\n",
       "      <td>...</td>\n",
       "      <td>...</td>\n",
       "      <td>...</td>\n",
       "      <td>...</td>\n",
       "      <td>...</td>\n",
       "      <td>...</td>\n",
       "      <td>...</td>\n",
       "    </tr>\n",
       "    <tr>\n",
       "      <th>7935</th>\n",
       "      <td>0.503868</td>\n",
       "      <td>-0.296884</td>\n",
       "      <td>-0.293537</td>\n",
       "      <td>0.20531</td>\n",
       "      <td>72.0</td>\n",
       "      <td>-0.045571</td>\n",
       "      <td>-0.994472</td>\n",
       "      <td>-0.651400</td>\n",
       "    </tr>\n",
       "    <tr>\n",
       "      <th>5192</th>\n",
       "      <td>-0.767566</td>\n",
       "      <td>-1.486372</td>\n",
       "      <td>-0.293537</td>\n",
       "      <td>-0.64526</td>\n",
       "      <td>49.0</td>\n",
       "      <td>0.593969</td>\n",
       "      <td>1.062858</td>\n",
       "      <td>-0.622448</td>\n",
       "    </tr>\n",
       "    <tr>\n",
       "      <th>3980</th>\n",
       "      <td>-0.767566</td>\n",
       "      <td>-1.486372</td>\n",
       "      <td>-0.293537</td>\n",
       "      <td>-0.64526</td>\n",
       "      <td>99.0</td>\n",
       "      <td>-0.184601</td>\n",
       "      <td>1.062858</td>\n",
       "      <td>-0.622448</td>\n",
       "    </tr>\n",
       "    <tr>\n",
       "      <th>235</th>\n",
       "      <td>1.775303</td>\n",
       "      <td>0.892605</td>\n",
       "      <td>-0.293537</td>\n",
       "      <td>1.90645</td>\n",
       "      <td>230.0</td>\n",
       "      <td>-0.184601</td>\n",
       "      <td>-0.961349</td>\n",
       "      <td>0.767245</td>\n",
       "    </tr>\n",
       "    <tr>\n",
       "      <th>5157</th>\n",
       "      <td>-0.767566</td>\n",
       "      <td>-0.296884</td>\n",
       "      <td>-0.293537</td>\n",
       "      <td>-0.64526</td>\n",
       "      <td>100.0</td>\n",
       "      <td>-0.156795</td>\n",
       "      <td>-0.970550</td>\n",
       "      <td>-0.651400</td>\n",
       "    </tr>\n",
       "  </tbody>\n",
       "</table>\n",
       "<p>7917 rows × 8 columns</p>\n",
       "</div>"
      ],
      "text/plain": [
       "      accommodates  bedrooms  bathrooms     beds  price  minimum_nights  \\\n",
       "4740      0.503868 -0.296884  -0.293537  0.20531   65.0       -0.184601   \n",
       "5606     -0.131849  0.892605   0.843973  0.20531   98.0       -0.101183   \n",
       "4824     -0.767566 -1.486372  -0.293537 -0.64526   65.0        0.037847   \n",
       "4205     -0.767566 -0.296884  -0.293537 -0.64526   45.0       -0.101183   \n",
       "3228     -0.131849 -0.296884  -0.293537  0.20531   65.0       -0.101183   \n",
       "...            ...       ...        ...      ...    ...             ...   \n",
       "7935      0.503868 -0.296884  -0.293537  0.20531   72.0       -0.045571   \n",
       "5192     -0.767566 -1.486372  -0.293537 -0.64526   49.0        0.593969   \n",
       "3980     -0.767566 -1.486372  -0.293537 -0.64526   99.0       -0.184601   \n",
       "235       1.775303  0.892605  -0.293537  1.90645  230.0       -0.184601   \n",
       "5157     -0.767566 -0.296884  -0.293537 -0.64526  100.0       -0.156795   \n",
       "\n",
       "      maximum_nights  number_of_reviews  \n",
       "4740        1.062858          -0.564545  \n",
       "5606        1.061018          -0.636924  \n",
       "4824        1.062858          -0.651400  \n",
       "4205        1.062858           0.550105  \n",
       "3228       -0.335685          -0.579021  \n",
       "...              ...                ...  \n",
       "7935       -0.994472          -0.651400  \n",
       "5192        1.062858          -0.622448  \n",
       "3980        1.062858          -0.622448  \n",
       "235        -0.961349           0.767245  \n",
       "5157       -0.970550          -0.651400  \n",
       "\n",
       "[7917 rows x 8 columns]"
      ]
     },
     "execution_count": 38,
     "metadata": {},
     "output_type": "execute_result"
    }
   ],
   "source": [
    "# (x - mean_x) / variance = z1_score\n",
    "\n",
    "import matplotlib\n",
    "\n",
    "tmp.info() # on a que des valeurs numeriques maintenant\n",
    "\n",
    "price_copy = paris_listings['price'].copy()\n",
    "\n",
    "# Yields a tuple of column name and series for each column in the dataframe\n",
    "for (columnName, columnData) in tmp.iteritems():\n",
    "    mean = columnData.mean()\n",
    "    std = columnData.std()\n",
    "    tmp[columnName] = columnData.apply(lambda x: (x - mean) / std)\n",
    "\n",
    "tmp['price'] = price_copy\n",
    "\n",
    "normalized_listings = tmp\n",
    "tmp"
   ]
  },
  {
   "cell_type": "markdown",
   "metadata": {},
   "source": [
    "## Euclidean distance for the multivariate case\n"
   ]
  },
  {
   "cell_type": "markdown",
   "metadata": {},
   "source": [
    "+ Calculate the Euclidean distance using only the accommodates and bedrooms characteristics between the first line and the 5th line of normalized_listings using the distance.euclidean() function.\n",
    "+ Assign the distance value to the first_fifth_distance variable and display the result.\n",
    "\n"
   ]
  },
  {
   "cell_type": "code",
   "execution_count": 20,
   "metadata": {},
   "outputs": [],
   "source": [
    "# normalized_listings.iloc[0[['accommodates', 'bedrooms']]"
   ]
  },
  {
   "cell_type": "code",
   "execution_count": 26,
   "metadata": {},
   "outputs": [
    {
     "data": {
      "text/plain": [
       "1.0"
      ]
     },
     "execution_count": 26,
     "metadata": {},
     "output_type": "execute_result"
    }
   ],
   "source": [
    "from scipy.spatial import distance\n",
    "\n",
    "columns = ['accommodates', 'bedrooms']\n",
    "first_listing = normalized_listings.iloc[0][columns]\n",
    "fifth_listing = normalized_listings.iloc[4][columns]\n",
    "distance.euclidean(first_listing, fifth_listing)"
   ]
  },
  {
   "cell_type": "markdown",
   "metadata": {},
   "source": [
    "## Adapter un modèle et faire des prédictions\n"
   ]
  },
  {
   "cell_type": "markdown",
   "metadata": {},
   "source": [
    "+ Create an instance of the class **KNeighborsRegressor** with the following parameters:\n",
    " - n_neighbors: 5\n",
    " - algorithm: raw\n",
    "+ Use the **fit** method to specify the data we want to use for our model of the nearest neighbouring k. Use the following parameters:\n",
    " - The training data, the characteristic columns: only the'accommodates' and'bedrooms' columns, in this order, from the DataFrame train_df.\n",
    " - The target column: the'price' column of the DataFrame train_df.\n",
    "+ Call the method **predict** to make predictions on it:\n",
    " - The'accommodates' and'bedrooms' columns of the DataFrame test_df\n",
    " - Assign the Numpy table resulting from the predicted price values to the predictions variable."
   ]
  },
  {
   "cell_type": "code",
   "execution_count": 53,
   "metadata": {},
   "outputs": [
    {
     "name": "stdout",
     "output_type": "stream",
     "text": [
      "['accommodates', 'bedrooms', 'bathrooms', 'beds', 'minimum_nights', 'maximum_nights', 'number_of_reviews']\n"
     ]
    },
    {
     "data": {
      "text/plain": [
       "array([239.8,  70.6, 106.8, ...,  56. , 159.4, 163.6])"
      ]
     },
     "execution_count": 53,
     "metadata": {},
     "output_type": "execute_result"
    }
   ],
   "source": [
    "from sklearn.neighbors import KNeighborsRegressor\n",
    "\n",
    "train_df = normalized_listings[0:6000]\n",
    "test_df = normalized_listings[6000:]\n",
    "\n",
    "train_columns = [x for x in normalized_listings.columns if x != 'price']\n",
    "print(train_columns)\n",
    "\n",
    "# instancier le modele\n",
    "knn = KNeighborsRegressor(n_neighbors=5, algorithm='brute')\n",
    "\n",
    "# adapter le modele\n",
    "knn.fit(train_df[train_columns], train_df['price'])\n",
    "\n",
    "predictions = knn.predict(test_df[train_columns])\n",
    "\n",
    "predictions"
   ]
  },
  {
   "cell_type": "code",
   "execution_count": 40,
   "metadata": {},
   "outputs": [
    {
     "data": {
      "text/plain": [
       "123.98163797600417"
      ]
     },
     "execution_count": 40,
     "metadata": {},
     "output_type": "execute_result"
    }
   ],
   "source": [
    "predictions.mean()"
   ]
  },
  {
   "cell_type": "markdown",
   "metadata": {},
   "source": [
    "## Calculate the mean square error"
   ]
  },
  {
   "cell_type": "markdown",
   "metadata": {},
   "source": [
    "+ Use the mean_squared_error function to calculate the MSE root mean square error value for the predictions we have made.\n",
    "+ Assign the MSE value to the variable two_features_mse.\n",
    "+ Calculate the square root value of the RMSE mean square error by taking the square root of the MSE value and assign the result to the variable two_features_rmse.\n",
    "+ Display these 2 error results.\n"
   ]
  },
  {
   "cell_type": "code",
   "execution_count": 45,
   "metadata": {},
   "outputs": [
    {
     "data": {
      "text/plain": [
       "86.43134176217931"
      ]
     },
     "execution_count": 45,
     "metadata": {},
     "output_type": "execute_result"
    }
   ],
   "source": [
    "from sklearn.metrics import mean_squared_error\n",
    "\n",
    "two_features_mse = mean_squared_error(test_df['price'], predictions)\n",
    "two_features_mse ** (1/2)"
   ]
  },
  {
   "cell_type": "markdown",
   "metadata": {},
   "source": [
    "## Use more features"
   ]
  },
  {
   "cell_type": "markdown",
   "metadata": {},
   "source": [
    "+ Create a new instance of the KNeighborsRegressor class with the following parameters:\n",
    "+ Adapt the model so that it uses the following columns of our training set (train_df):\n",
    " - accommodating\n",
    " - bedrooms\n",
    " - bathrooms\n",
    " - number_of_reviews\n",
    "+ Use the model to make predictions on the test set (test_df) using the same columns. Assign the Numpy table of predictions to the four_predictions variable.\n",
    "+ Use the mean_squared_error() function to calculate the MSE value for these predictions by comparing the furnace_prediction values with the price column of the DataFrame test_df. Assign the calculated MSE value to the variable four_mse.\n",
    "+ Calculate the RMSE value and assign the result to the variable four_rmse.\n",
    "+ Display the results four_mse and four_rmse."
   ]
  },
  {
   "cell_type": "code",
   "execution_count": null,
   "metadata": {},
   "outputs": [],
   "source": []
  },
  {
   "cell_type": "markdown",
   "metadata": {},
   "source": [
    "## Use all features"
   ]
  },
  {
   "cell_type": "markdown",
   "metadata": {},
   "source": [
    "+ Use all columns, except the'price' column, to drive our model of the nearest neighbouring k's using the same parameters for the KNeighborsRegressor class as the previous videos.\n",
    "+ Use the model to make predictions on the test set and assign the resulting Numpy array to the all_features_predictions variable.\n",
    "+ Calculate the MSE and RMSE values and assign the results to the variables all_features_mse and all_features_rmse.\n",
    "+ Display error scores.\n"
   ]
  },
  {
   "cell_type": "code",
   "execution_count": 26,
   "metadata": {},
   "outputs": [],
   "source": [
    "# df.columns.tolist() to retrieve all columns in a list \n",
    "# remove() to delete a column"
   ]
  },
  {
   "cell_type": "code",
   "execution_count": null,
   "metadata": {},
   "outputs": [],
   "source": []
  }
 ],
 "metadata": {
  "kernelspec": {
   "display_name": "Python 3",
   "language": "python",
   "name": "python3"
  },
  "language_info": {
   "codemirror_mode": {
    "name": "ipython",
    "version": 3
   },
   "file_extension": ".py",
   "mimetype": "text/x-python",
   "name": "python",
   "nbconvert_exporter": "python",
   "pygments_lexer": "ipython3",
   "version": "3.8.0"
  }
 },
 "nbformat": 4,
 "nbformat_minor": 4
}
